{
 "cells": [
  {
   "cell_type": "code",
   "execution_count": 1,
   "metadata": {},
   "outputs": [],
   "source": [
    "\n",
    "import pandas as pd\n",
    "from datetime import datetime\n",
    "import math\n",
    "from IPython.display import display, HTML"
   ]
  },
  {
   "cell_type": "code",
   "execution_count": 2,
   "metadata": {},
   "outputs": [],
   "source": [
    "data = pd.read_csv(\"Datasets/siri.20121106.csv\", names = ['Timestamp','LineID','Direction','JourneyPatternID','TimeFrame','VehicleJourneyID','Operator','Congestion','Long','Lat','Delay','BlockID ','VehicleID','StopID','AtStop'], dtype = {'LineID': 'str'})"
   ]
  },
  {
   "cell_type": "code",
   "execution_count": 3,
   "metadata": {},
   "outputs": [],
   "source": [
    "\n",
    "vehicles = data.VehicleID.unique()\n",
    "journeysDF = pd.DataFrame()\n",
    "# v = vehicles[0]\n",
    "journeysByVehicle = pd.DataFrame(columns = ['JourneyID','Route', 'StartTime', 'Endtime', 'Duration'])"
   ]
  },
  {
   "cell_type": "code",
   "execution_count": 4,
   "metadata": {},
   "outputs": [
    {
     "ename": "SyntaxError",
     "evalue": "invalid syntax (<ipython-input-4-3e7d2f2887aa>, line 8)",
     "output_type": "error",
     "traceback": [
      "\u001b[0;36m  File \u001b[0;32m\"<ipython-input-4-3e7d2f2887aa>\"\u001b[0;36m, line \u001b[0;32m8\u001b[0m\n\u001b[0;31m    journey = output[output.VehicleJourneyID == j && output.AtStop == 1]\u001b[0m\n\u001b[0m                                                   ^\u001b[0m\n\u001b[0;31mSyntaxError\u001b[0m\u001b[0;31m:\u001b[0m invalid syntax\n"
     ]
    }
   ],
   "source": [
    "for v in vehicles:\n",
    "    pings = data[data.VehicleID == v]\n",
    "    output = pings[['LineID', 'Direction', 'JourneyPatternID', 'VehicleJourneyID', 'StopID', 'AtStop', 'Timestamp']].copy()\n",
    "    output['TimeF'] = pings.Timestamp.apply(lambda x: datetime.utcfromtimestamp(x/1000000).strftime('%Y-%m-%d %H:%M:%S'))\n",
    "    journeys = output.VehicleJourneyID.unique()\n",
    "    # display(HTML(output[output.VehicleJourneyID == journeys[1]].to_html()))\n",
    "    for j in journeys:\n",
    "        journey = output[output.VehicleJourneyID == j && output.AtStop == 1]\n",
    "        route = journey.iloc[0].LineID\n",
    "        startTime = journey.iloc[0].TimeF\n",
    "        stopAt = journey.iloc[0].StopID\n",
    "        for i in journey:\n",
    "            if(i.StopID != stopAt):\n",
    "                interStopTime = interStopTime.append({\"From\": stopAt, \"To\": i.StopID, \"Time\": })\n",
    "        endTime = journey.iloc[-1].TimeF\n",
    "        x = journey.iloc[-1].Timestamp - journey.iloc[0].Timestamp\n",
    "        # duration = datetime.utcfromtimestamp(x/1000000).strftime('%H:%M:%S')\n",
    "        journeysByVehicle = journeysByVehicle.append({'JourneyID': j, 'Route': route, 'StartTime': startTime, 'Endtime': endTime, 'Duration': x}, ignore_index = True)"
   ]
  },
  {
   "cell_type": "code",
   "execution_count": null,
   "metadata": {},
   "outputs": [],
   "source": []
  }
 ],
 "metadata": {
  "kernelspec": {
   "display_name": "Python 3",
   "language": "python",
   "name": "python3"
  },
  "language_info": {
   "codemirror_mode": {
    "name": "ipython",
    "version": 3
   },
   "file_extension": ".py",
   "mimetype": "text/x-python",
   "name": "python",
   "nbconvert_exporter": "python",
   "pygments_lexer": "ipython3",
   "version": "3.7.2"
  }
 },
 "nbformat": 4,
 "nbformat_minor": 2
}
