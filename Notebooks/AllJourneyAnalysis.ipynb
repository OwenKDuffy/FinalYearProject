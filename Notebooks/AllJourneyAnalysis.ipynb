{
 "cells": [
  {
   "cell_type": "code",
   "execution_count": 9,
   "metadata": {},
   "outputs": [],
   "source": [
    "import pandas as pd\n",
    "from datetime import datetime\n",
    "from IPython.display import display, HTML"
   ]
  },
  {
   "cell_type": "code",
   "execution_count": 10,
   "metadata": {},
   "outputs": [],
   "source": [
    "data = pd.read_csv(\"Datasets/siri.20121106.csv\", names = ['Timestamp','LineID','Direction','JourneyPatternID','TimeFrame','VehicleJourneyID','Operator','Congestion','Long','Lat','Delay','BlockID ','VehicleID','StopID','AtStop'])"
   ]
  },
  {
   "cell_type": "code",
   "execution_count": 11,
   "metadata": {},
   "outputs": [],
   "source": [
    "vehicles = data.VehicleID.unique()\n",
    "journeysDF = pd.DataFrame(columns = ['JourneyID','Route', 'StartTime','StartStop', 'Endtime', 'EndStop', 'Duration'])\n",
    "for v in vehicles:\n",
    "    pings = data[data.VehicleID == v]\n",
    "    output = pings[['LineID', 'Direction', 'JourneyPatternID', 'VehicleJourneyID', 'StopID', 'AtStop', 'Timestamp']].copy()\n",
    "    output['TimeF'] = pings.Timestamp.apply(lambda x: datetime.utcfromtimestamp(x/1000000).strftime('%Y-%m-%d %H:%M:%S'))\n",
    "    journeys = output.VehicleJourneyID.unique()\n",
    "    o = pd.DataFrame(columns = ['JourneyID','Route', 'StartTime','StartStop', 'Endtime', 'EndStop', 'Duration'])\n",
    "    for j in journeys:\n",
    "        journey = output[output.VehicleJourneyID == j]\n",
    "        route = journey.iloc[0].LineID\n",
    "        startTime = journey.iloc[0].TimeF\n",
    "        startStop = journey.iloc[0].StopID\n",
    "        endTime = journey.iloc[-1].TimeF\n",
    "        endStop = journey.iloc[-1].StopID\n",
    "        x = journey.iloc[-1].Timestamp - journey.iloc[0].Timestamp \n",
    "        duration = datetime.utcfromtimestamp(x/1000000).strftime('%H:%M:%S')\n",
    "        journeysDF = journeysDF.append({'JourneyID': j, 'Route': route, 'StartTime': startTime, 'StartStop': startStop, 'Endtime': endTime, 'EndStop': endStop, 'Duration': duration}, ignore_index = True)"
   ]
  },
  {
   "cell_type": "code",
   "execution_count": 12,
   "metadata": {},
   "outputs": [
    {
     "data": {
      "text/html": [
       "<table border=\"1\" class=\"dataframe\">\n",
       "  <thead>\n",
       "    <tr style=\"text-align: right;\">\n",
       "      <th></th>\n",
       "      <th>JourneyID</th>\n",
       "      <th>Route</th>\n",
       "      <th>StartTime</th>\n",
       "      <th>StartStop</th>\n",
       "      <th>Endtime</th>\n",
       "      <th>EndStop</th>\n",
       "      <th>Duration</th>\n",
       "    </tr>\n",
       "  </thead>\n",
       "  <tbody>\n",
       "    <tr>\n",
       "      <th>0</th>\n",
       "      <td>5826</td>\n",
       "      <td>15</td>\n",
       "      <td>2012-11-06 00:00:00</td>\n",
       "      <td>4870.0</td>\n",
       "      <td>2012-11-06 00:05:21</td>\n",
       "      <td>4870.0</td>\n",
       "      <td>00:05:21</td>\n",
       "    </tr>\n",
       "    <tr>\n",
       "      <th>1</th>\n",
       "      <td>1338</td>\n",
       "      <td>150</td>\n",
       "      <td>2012-11-06 06:46:03</td>\n",
       "      <td>NaN</td>\n",
       "      <td>2012-11-06 06:54:26</td>\n",
       "      <td>337.0</td>\n",
       "      <td>00:08:23</td>\n",
       "    </tr>\n",
       "    <tr>\n",
       "      <th>2</th>\n",
       "      <td>1430</td>\n",
       "      <td>150</td>\n",
       "      <td>2012-11-06 06:54:47</td>\n",
       "      <td>337.0</td>\n",
       "      <td>2012-11-06 07:28:26</td>\n",
       "      <td>4861.0</td>\n",
       "      <td>00:33:39</td>\n",
       "    </tr>\n",
       "    <tr>\n",
       "      <th>3</th>\n",
       "      <td>1339</td>\n",
       "      <td>150</td>\n",
       "      <td>2012-11-06 07:28:51</td>\n",
       "      <td>4863.0</td>\n",
       "      <td>2012-11-06 07:35:08</td>\n",
       "      <td>4863.0</td>\n",
       "      <td>00:06:17</td>\n",
       "    </tr>\n",
       "    <tr>\n",
       "      <th>4</th>\n",
       "      <td>1431</td>\n",
       "      <td>150</td>\n",
       "      <td>2012-11-06 07:35:26</td>\n",
       "      <td>4863.0</td>\n",
       "      <td>2012-11-06 08:22:34</td>\n",
       "      <td>1358.0</td>\n",
       "      <td>00:47:08</td>\n",
       "    </tr>\n",
       "  </tbody>\n",
       "</table>"
      ],
      "text/plain": [
       "<IPython.core.display.HTML object>"
      ]
     },
     "metadata": {},
     "output_type": "display_data"
    }
   ],
   "source": [
    "display(HTML(journeysDF.head().to_html()))"
   ]
  },
  {
   "cell_type": "code",
   "execution_count": 15,
   "metadata": {},
   "outputs": [
    {
     "name": "stdout",
     "output_type": "stream",
     "text": [
      "(13000, 7)\n"
     ]
    }
   ],
   "source": [
    "print(journeysDF.shape[0])"
   ]
  },
  {
   "cell_type": "code",
   "execution_count": null,
   "metadata": {},
   "outputs": [],
   "source": []
  }
 ],
 "metadata": {
  "kernelspec": {
   "display_name": "Python 3",
   "language": "python",
   "name": "python3"
  },
  "language_info": {
   "codemirror_mode": {
    "name": "ipython",
    "version": 3
   },
   "file_extension": ".py",
   "mimetype": "text/x-python",
   "name": "python",
   "nbconvert_exporter": "python",
   "pygments_lexer": "ipython3",
   "version": "3.7.2"
  }
 },
 "nbformat": 4,
 "nbformat_minor": 2
}
